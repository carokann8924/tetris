{
  "nbformat": 4,
  "nbformat_minor": 0,
  "metadata": {
    "colab": {
      "provenance": [],
      "authorship_tag": "ABX9TyPxwA4R++kVNva6CkR6p9Nc",
      "include_colab_link": true
    },
    "kernelspec": {
      "name": "python3",
      "display_name": "Python 3"
    },
    "language_info": {
      "name": "python"
    }
  },
  "cells": [
    {
      "cell_type": "markdown",
      "metadata": {
        "id": "view-in-github",
        "colab_type": "text"
      },
      "source": [
        "<a href=\"https://colab.research.google.com/github/carokann8924/tetris/blob/main/tetris.ipynb\" target=\"_parent\"><img src=\"https://colab.research.google.com/assets/colab-badge.svg\" alt=\"Open In Colab\"/></a>"
      ]
    },
    {
      "cell_type": "code",
      "execution_count": null,
      "metadata": {
        "id": "kzBCehpXUNKb"
      },
      "outputs": [],
      "source": [
        "import time\n",
        "import random\n",
        "\n",
        "# 20행 10열\n",
        "cell = [[\"0\" for _ in range(10)] for _ in range(20)]\n",
        "\n",
        "block_list = [1321, 14, 1212, 2212, 1222, 1311, 1331]\n",
        "\n",
        "def output(grid):\n",
        "    return '\\n'.join(''.join(row) for row in grid)\n",
        "\n",
        "def gravity(cell): # 리스트를 분석해서 중력의 영향을 받는 '1'을 한칸 아래로 떨굼\n",
        "    for i in range(len(cell)-1, 0, -1):\n",
        "        for j in range(len(cell[i])):\n",
        "            if cell[i][j] == '1':\n",
        "                cell[i][j] = '0'\n",
        "                cell[i-1][j] = '1'\n",
        "\n",
        "making_block = 0\n",
        "\n",
        "while True:\n",
        "    if making_block == 0:\n",
        "        block = str(random.choice(block_list))\n",
        "\n",
        "        # 블록 해석: 예를 들어 block = '1321'이라면, 짝수 인덱스는 y (세로), 홀수 인덱스는 x (가로)\n",
        "        for i in range(int(len(block)/2)):\n",
        "            for j in range(int(block[(i+1)*2 -1])): # 아오 머리 깨지겠네\n",
        "                cell[i][int(block[i*2])+j] = '1'\n",
        "        making_block = 1\n",
        "\n",
        "    print(\"--------------\")\n",
        "    print(output(cell))\n",
        "    print(\"--------------\")\n",
        "    time.sleep(1)\n"
      ]
    }
  ]
}